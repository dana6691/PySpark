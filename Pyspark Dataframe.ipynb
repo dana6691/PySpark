{
    "cells": [
        {
            "cell_type": "markdown",
            "source": [
                "# PySpark Dataframe\r\n",
                "In this notebook, we are learning pyspark functions to transform the tips data.  \r\n",
                "- Initiate the Spark Session\r\n",
                "- Read csv file\r\n",
                "- Check Datatypes\r\n",
                "- Column names\r\n",
                "- Conversion back to pandas DataFrame\r\n",
                "- Data summary\r\n",
                "- Add/Drop/Rename Columns\r\n",
                "- Missing values - drop/fill/replace(Mean,Median, and Mode)\r\n",
                "- Filter data\r\n",
                "- Aggregate data\r\n"
            ],
            "metadata": {}
        },
        {
            "cell_type": "markdown",
            "source": [
                "1. Initiate the Spark Session"
            ],
            "metadata": {}
        },
        {
            "cell_type": "code",
            "execution_count": 5,
            "source": [
                "from pyspark.sql import SparkSession\r\n",
                "spark = SparkSession.builder \\\r\n",
                "                    .master('local[*]')\\\r\n",
                "                    .appName('spark_application')\\\r\n",
                "                    .getOrCreate()"
            ],
            "outputs": [],
            "metadata": {}
        },
        {
            "cell_type": "code",
            "execution_count": 6,
            "source": [
                "spark"
            ],
            "outputs": [
                {
                    "output_type": "execute_result",
                    "data": {
                        "text/html": [
                            "\n",
                            "            <div>\n",
                            "                <p><b>SparkSession - in-memory</b></p>\n",
                            "                \n",
                            "        <div>\n",
                            "            <p><b>SparkContext</b></p>\n",
                            "\n",
                            "            <p><a href=\"http://DaheeKim02.ralco.local:4040\">Spark UI</a></p>\n",
                            "\n",
                            "            <dl>\n",
                            "              <dt>Version</dt>\n",
                            "                <dd><code>v3.1.2</code></dd>\n",
                            "              <dt>Master</dt>\n",
                            "                <dd><code>local[*]</code></dd>\n",
                            "              <dt>AppName</dt>\n",
                            "                <dd><code>spark_application</code></dd>\n",
                            "            </dl>\n",
                            "        </div>\n",
                            "        \n",
                            "            </div>\n",
                            "        "
                        ],
                        "text/plain": [
                            "<pyspark.sql.session.SparkSession at 0x19322ba4ef0>"
                        ]
                    },
                    "metadata": {},
                    "execution_count": 6
                }
            ],
            "metadata": {}
        },
        {
            "cell_type": "code",
            "execution_count": 7,
            "source": [
                "from pyspark.sql import SparkSession\r\n",
                "SparkSession.getActiveSession()"
            ],
            "outputs": [
                {
                    "output_type": "execute_result",
                    "data": {
                        "text/html": [
                            "\n",
                            "            <div>\n",
                            "                <p><b>SparkSession - in-memory</b></p>\n",
                            "                \n",
                            "        <div>\n",
                            "            <p><b>SparkContext</b></p>\n",
                            "\n",
                            "            <p><a href=\"http://DaheeKim02.ralco.local:4040\">Spark UI</a></p>\n",
                            "\n",
                            "            <dl>\n",
                            "              <dt>Version</dt>\n",
                            "                <dd><code>v3.1.2</code></dd>\n",
                            "              <dt>Master</dt>\n",
                            "                <dd><code>local[*]</code></dd>\n",
                            "              <dt>AppName</dt>\n",
                            "                <dd><code>spark_application</code></dd>\n",
                            "            </dl>\n",
                            "        </div>\n",
                            "        \n",
                            "            </div>\n",
                            "        "
                        ],
                        "text/plain": [
                            "<pyspark.sql.session.SparkSession at 0x19322ba4ef0>"
                        ]
                    },
                    "metadata": {},
                    "execution_count": 7
                }
            ],
            "metadata": {}
        },
        {
            "cell_type": "markdown",
            "source": [
                "2. Read csv File"
            ],
            "metadata": {}
        },
        {
            "cell_type": "code",
            "execution_count": 8,
            "source": [
                "df_pyspark = spark.read.csv('Data/tips.csv',header=True, inferSchema=True)\r\n",
                "type(df_pyspark)"
            ],
            "outputs": [
                {
                    "output_type": "execute_result",
                    "data": {
                        "text/plain": [
                            "pyspark.sql.dataframe.DataFrame"
                        ]
                    },
                    "metadata": {},
                    "execution_count": 8
                }
            ],
            "metadata": {}
        },
        {
            "cell_type": "code",
            "execution_count": null,
            "source": [
                "3. Find Schema and Data Types"
            ],
            "outputs": [],
            "metadata": {}
        },
        {
            "cell_type": "code",
            "execution_count": 128,
            "source": [
                "# Check Schema\r\n",
                "df_pyspark.printSchema()\r\n",
                "# Check Data types\r\n",
                "df_pyspark.dtypes"
            ],
            "outputs": [
                {
                    "output_type": "stream",
                    "name": "stdout",
                    "text": [
                        "root\n",
                        " |-- total_bill: string (nullable = true)\n",
                        " |-- tip: string (nullable = true)\n",
                        " |-- sex: string (nullable = true)\n",
                        " |-- smoker: string (nullable = true)\n",
                        " |-- day: string (nullable = true)\n",
                        " |-- time: string (nullable = true)\n",
                        " |-- size: string (nullable = true)\n",
                        "\n"
                    ]
                },
                {
                    "output_type": "execute_result",
                    "data": {
                        "text/plain": [
                            "[('total_bill', 'string'),\n",
                            " ('tip', 'string'),\n",
                            " ('sex', 'string'),\n",
                            " ('smoker', 'string'),\n",
                            " ('day', 'string'),\n",
                            " ('time', 'string'),\n",
                            " ('size', 'string')]"
                        ]
                    },
                    "metadata": {},
                    "execution_count": 128
                }
            ],
            "metadata": {}
        },
        {
            "cell_type": "markdown",
            "source": [
                "4. Column Names"
            ],
            "metadata": {}
        },
        {
            "cell_type": "code",
            "execution_count": 70,
            "source": [
                "# Check columns names\r\n",
                "df_pyspark.columns"
            ],
            "outputs": [
                {
                    "output_type": "execute_result",
                    "data": {
                        "text/plain": [
                            "['total_bill', 'tip', 'sex', 'smoker', 'day', 'time', 'size']"
                        ]
                    },
                    "metadata": {},
                    "execution_count": 70
                }
            ],
            "metadata": {}
        },
        {
            "cell_type": "code",
            "execution_count": 71,
            "source": [
                "# Show data; selected columns\r\n",
                "df_pyspark.show(5)\r\n",
                "df_pyspark.select(['sex','day']).show(2)"
            ],
            "outputs": [
                {
                    "output_type": "stream",
                    "name": "stdout",
                    "text": [
                        "+----------+----+------+------+---+------+----+\n",
                        "|total_bill| tip|   sex|smoker|day|  time|size|\n",
                        "+----------+----+------+------+---+------+----+\n",
                        "|     16.99|1.01|Female|    No|Sun|Dinner|   2|\n",
                        "|     10.34|1.66|  Male|    No|Sun|Dinner|   3|\n",
                        "|     21.01| 3.5|  Male|    No|Sun|Dinner|   3|\n",
                        "|     23.68|3.31|  Male|    No|Sun|Dinner|   2|\n",
                        "|     24.59|3.61|Female|    No|Sun|Dinner|   4|\n",
                        "+----------+----+------+------+---+------+----+\n",
                        "only showing top 5 rows\n",
                        "\n",
                        "+------+---+\n",
                        "|   sex|day|\n",
                        "+------+---+\n",
                        "|Female|Sun|\n",
                        "|  Male|Sun|\n",
                        "+------+---+\n",
                        "only showing top 2 rows\n",
                        "\n"
                    ]
                }
            ],
            "metadata": {}
        },
        {
            "cell_type": "markdown",
            "source": [
                "5. Conversion back to pandas Dataframe"
            ],
            "metadata": {}
        },
        {
            "cell_type": "code",
            "execution_count": null,
            "source": [
                "df_pyspark.toPandas()"
            ],
            "outputs": [],
            "metadata": {}
        },
        {
            "cell_type": "markdown",
            "source": [
                "6. Summarize Data"
            ],
            "metadata": {}
        },
        {
            "cell_type": "code",
            "execution_count": 72,
            "source": [
                "# Data summary\r\n",
                "df_pyspark.describe().show()"
            ],
            "outputs": [
                {
                    "output_type": "stream",
                    "name": "stdout",
                    "text": [
                        "+-------+------------------+-----------------+------+------+----+------+------------------+\n",
                        "|summary|        total_bill|              tip|   sex|smoker| day|  time|              size|\n",
                        "+-------+------------------+-----------------+------+------+----+------+------------------+\n",
                        "|  count|               248|              248|   248|   248| 248|   248|               248|\n",
                        "|   mean|19.632459677419362|2.970645161290322|  null|  null|null|  null|  2.57085020242915|\n",
                        "| stddev| 8.911357126068228|1.389667039569976|  null|  null|null|  null|0.9510587199808357|\n",
                        "|    min|             10.07|                1|Female|  Male| Fri|Dinner|                 1|\n",
                        "|    max|              9.94|              9.0|    NA|   Yes|Thur|   Sun|            Dinner|\n",
                        "+-------+------------------+-----------------+------+------+----+------+------------------+\n",
                        "\n"
                    ]
                }
            ],
            "metadata": {}
        },
        {
            "cell_type": "markdown",
            "source": [
                "7. Add/Drop/Rename Columns"
            ],
            "metadata": {}
        },
        {
            "cell_type": "code",
            "execution_count": 77,
            "source": [
                "# Add Column \r\n",
                "df_pyspark = df_pyspark.withColumn('Double Size',df_pyspark['Size']*2)\r\n",
                "df_pyspark.show(3)"
            ],
            "outputs": [
                {
                    "output_type": "stream",
                    "name": "stdout",
                    "text": [
                        "+----------+----+------+------+---+------+----+-----------+\n",
                        "|total_bill| tip|   sex|smoker|day|  time|size|Double Size|\n",
                        "+----------+----+------+------+---+------+----+-----------+\n",
                        "|     16.99|1.01|Female|    No|Sun|Dinner|   2|        4.0|\n",
                        "|     10.34|1.66|  Male|    No|Sun|Dinner|   3|        6.0|\n",
                        "|     21.01| 3.5|  Male|    No|Sun|Dinner|   3|        6.0|\n",
                        "+----------+----+------+------+---+------+----+-----------+\n",
                        "only showing top 3 rows\n",
                        "\n"
                    ]
                }
            ],
            "metadata": {}
        },
        {
            "cell_type": "code",
            "execution_count": 78,
            "source": [
                "# Drop column \r\n",
                "df_pyspark = df_pyspark.drop('Double Size')\r\n",
                "df_pyspark.show(3)"
            ],
            "outputs": [
                {
                    "output_type": "stream",
                    "name": "stdout",
                    "text": [
                        "+----------+----+------+------+---+------+----+\n",
                        "|total_bill| tip|   sex|smoker|day|  time|size|\n",
                        "+----------+----+------+------+---+------+----+\n",
                        "|     16.99|1.01|Female|    No|Sun|Dinner|   2|\n",
                        "|     10.34|1.66|  Male|    No|Sun|Dinner|   3|\n",
                        "|     21.01| 3.5|  Male|    No|Sun|Dinner|   3|\n",
                        "+----------+----+------+------+---+------+----+\n",
                        "only showing top 3 rows\n",
                        "\n"
                    ]
                }
            ],
            "metadata": {}
        },
        {
            "cell_type": "code",
            "execution_count": 129,
            "source": [
                "# Rename column\r\n",
                "df_pyspark= df_pyspark.withColumnRenamed('tip','tips')\r\n",
                "df_pyspark.show(3)"
            ],
            "outputs": [
                {
                    "output_type": "stream",
                    "name": "stdout",
                    "text": [
                        "+----------+----+------+------+---+------+----+\n",
                        "|total_bill|tips|   sex|smoker|day|  time|size|\n",
                        "+----------+----+------+------+---+------+----+\n",
                        "|     16.99|1.01|Female|    No|Sun|Dinner|   2|\n",
                        "|     10.34|1.66|  Male|    No|Sun|Dinner|   3|\n",
                        "|     21.01| 3.5|  Male|    No|Sun|Dinner|   3|\n",
                        "+----------+----+------+------+---+------+----+\n",
                        "only showing top 3 rows\n",
                        "\n"
                    ]
                }
            ],
            "metadata": {}
        },
        {
            "cell_type": "markdown",
            "source": [
                "8. Missing Values - Drop/Fill/Replace"
            ],
            "metadata": {}
        },
        {
            "cell_type": "code",
            "execution_count": 116,
            "source": [
                "# Missing value - drop \r\n",
                "df_pyspark.na.drop(how=\"any\").show(3)\r\n",
                "df_pyspark.na.drop(how=\"any\",subset=['sex']).show(3)\r\n",
                "\r\n",
                "# Missing value - fill\r\n",
                "df_pyspark.na.fill('No Value',['sex','day']).show(3)"
            ],
            "outputs": [
                {
                    "output_type": "stream",
                    "name": "stdout",
                    "text": [
                        "+----------+----+------+------+---+------+----+\n",
                        "|total_bill|tips|   sex|smoker|day|  time|size|\n",
                        "+----------+----+------+------+---+------+----+\n",
                        "|     16.99|1.01|Female|    No|Sun|Dinner|   2|\n",
                        "|     10.34|1.66|  Male|    No|Sun|Dinner|   3|\n",
                        "|     21.01| 3.5|  Male|    No|Sun|Dinner|   3|\n",
                        "+----------+----+------+------+---+------+----+\n",
                        "only showing top 3 rows\n",
                        "\n",
                        "+----------+----+------+------+---+------+----+\n",
                        "|total_bill|tips|   sex|smoker|day|  time|size|\n",
                        "+----------+----+------+------+---+------+----+\n",
                        "|     16.99|1.01|Female|    No|Sun|Dinner|   2|\n",
                        "|     10.34|1.66|  Male|    No|Sun|Dinner|   3|\n",
                        "|     21.01| 3.5|  Male|    No|Sun|Dinner|   3|\n",
                        "+----------+----+------+------+---+------+----+\n",
                        "only showing top 3 rows\n",
                        "\n",
                        "+----------+----+------+------+---+------+----+\n",
                        "|total_bill|tips|   sex|smoker|day|  time|size|\n",
                        "+----------+----+------+------+---+------+----+\n",
                        "|     16.99|1.01|Female|    No|Sun|Dinner|   2|\n",
                        "|     10.34|1.66|  Male|    No|Sun|Dinner|   3|\n",
                        "|     21.01| 3.5|  Male|    No|Sun|Dinner|   3|\n",
                        "+----------+----+------+------+---+------+----+\n",
                        "only showing top 3 rows\n",
                        "\n"
                    ]
                }
            ],
            "metadata": {}
        },
        {
            "cell_type": "code",
            "execution_count": 134,
            "source": [
                "# Missing value - add imputed column with mean,median,mode \r\n",
                "from pyspark.ml.feature import Imputer\r\n",
                "from pyspark.sql.types import IntegerType, StringType, DoubleType, BooleanType\r\n",
                "df_pyspark = df_pyspark.withColumn(\"tips\", df_pyspark[\"tips\"].cast(DoubleType()))\r\n",
                "imputer = Imputer(\r\n",
                "    inputCols = ['tips'],\r\n",
                "    outputCols = [\"{}_imputed\".format(c) for c in ['tips']]\r\n",
                "    ).setStrategy(\"median\")"
            ],
            "outputs": [],
            "metadata": {}
        },
        {
            "cell_type": "code",
            "execution_count": 136,
            "source": [
                "df_pyspark = imputer.fit(df_pyspark).transform(df_pyspark)\r\n",
                "df_pyspark.show(3)"
            ],
            "outputs": [
                {
                    "output_type": "stream",
                    "name": "stdout",
                    "text": [
                        "+----------+----+------+------+---+------+----+------------+\n",
                        "|total_bill|tips|   sex|smoker|day|  time|size|tips_imputed|\n",
                        "+----------+----+------+------+---+------+----+------------+\n",
                        "|     16.99|1.01|Female|    No|Sun|Dinner|   2|        1.01|\n",
                        "|     10.34|1.66|  Male|    No|Sun|Dinner|   3|        1.66|\n",
                        "|     21.01| 3.5|  Male|    No|Sun|Dinner|   3|         3.5|\n",
                        "+----------+----+------+------+---+------+----+------------+\n",
                        "only showing top 3 rows\n",
                        "\n"
                    ]
                }
            ],
            "metadata": {}
        },
        {
            "cell_type": "code",
            "execution_count": 138,
            "source": [
                "df_pyspark.show()"
            ],
            "outputs": [
                {
                    "output_type": "stream",
                    "name": "stdout",
                    "text": [
                        "+----------+----+------+------+----+------+----+------------+\n",
                        "|total_bill|tips|   sex|smoker| day|  time|size|tips_imputed|\n",
                        "+----------+----+------+------+----+------+----+------------+\n",
                        "|     16.99|1.01|Female|    No| Sun|Dinner|   2|        1.01|\n",
                        "|     10.34|1.66|  Male|    No| Sun|Dinner|   3|        1.66|\n",
                        "|     21.01| 3.5|  Male|    No| Sun|Dinner|   3|         3.5|\n",
                        "|     23.68|3.31|  Male|    No| Sun|Dinner|   2|        3.31|\n",
                        "|     24.59|3.61|Female|    No| Sun|Dinner|   4|        3.61|\n",
                        "|     25.29|4.71|  Male|    No| Sun|Dinner|   4|        4.71|\n",
                        "|      8.77| 2.0|  Male|    No| Sun|Dinner|   2|         2.0|\n",
                        "|     26.88|3.12|  Male|    No| Sun|Dinner|   4|        3.12|\n",
                        "|     15.04|1.96|  Male|    No| Sun|Dinner|   2|        1.96|\n",
                        "|     14.78|3.23|  Male|    No| Sun|Dinner|   2|        3.23|\n",
                        "|     10.27|1.71|  null|    No| Sun|Dinner|   2|        1.71|\n",
                        "|     10.27|1.42|  Male|    No|null|Dinner|   2|        1.42|\n",
                        "|     10.27|1.11|  Male|    No|null|Dinner|   4|        1.11|\n",
                        "|     10.27|null|  Male|    No| Sun|Dinner|   3|        2.83|\n",
                        "|     10.27|1.61|  null|    No| Sun|Dinner|   2|        1.61|\n",
                        "|     35.26| 5.0|Female|    No| Sun|Dinner|   4|         5.0|\n",
                        "|     15.42|1.57|  Male|    No| Sun|Dinner|   2|        1.57|\n",
                        "|     18.43| 3.0|  Male|    No| Sun|Dinner|   4|         3.0|\n",
                        "|     14.83|3.02|Female|    No| Sun|Dinner|   2|        3.02|\n",
                        "|     21.58|3.92|  Male|    No| Sun|Dinner|   2|        3.92|\n",
                        "+----------+----+------+------+----+------+----+------------+\n",
                        "only showing top 20 rows\n",
                        "\n"
                    ]
                }
            ],
            "metadata": {}
        },
        {
            "cell_type": "markdown",
            "source": [
                "9. Filter data"
            ],
            "metadata": {}
        },
        {
            "cell_type": "code",
            "execution_count": 150,
            "source": [
                "df_pyspark.filter(\"smoker = 'No'\").show(2)\r\n",
                "df_pyspark.filter(\"size > 3\").show(2) # larger than 3\r\n",
                "df_pyspark.filter(df_pyspark['size'] > 3).show(2) # larger than 3\r\n",
                "df_pyspark.filter((df_pyspark['size'] > 2) & (df_pyspark['size'] <4)).show(2) # between 2 and 4\r\n",
                "df_pyspark.filter(~(df_pyspark['sex']=='Female')).show(2)  # not female"
            ],
            "outputs": [
                {
                    "output_type": "stream",
                    "name": "stdout",
                    "text": [
                        "+----------+----+------+------+---+------+----+------------+\n",
                        "|total_bill|tips|   sex|smoker|day|  time|size|tips_imputed|\n",
                        "+----------+----+------+------+---+------+----+------------+\n",
                        "|     16.99|1.01|Female|    No|Sun|Dinner|   2|        1.01|\n",
                        "|     10.34|1.66|  Male|    No|Sun|Dinner|   3|        1.66|\n",
                        "+----------+----+------+------+---+------+----+------------+\n",
                        "only showing top 2 rows\n",
                        "\n",
                        "+----------+----+------+------+---+------+----+------------+\n",
                        "|total_bill|tips|   sex|smoker|day|  time|size|tips_imputed|\n",
                        "+----------+----+------+------+---+------+----+------------+\n",
                        "|     24.59|3.61|Female|    No|Sun|Dinner|   4|        3.61|\n",
                        "|     25.29|4.71|  Male|    No|Sun|Dinner|   4|        4.71|\n",
                        "+----------+----+------+------+---+------+----+------------+\n",
                        "only showing top 2 rows\n",
                        "\n",
                        "+----------+----+------+------+---+------+----+------------+\n",
                        "|total_bill|tips|   sex|smoker|day|  time|size|tips_imputed|\n",
                        "+----------+----+------+------+---+------+----+------------+\n",
                        "|     24.59|3.61|Female|    No|Sun|Dinner|   4|        3.61|\n",
                        "|     25.29|4.71|  Male|    No|Sun|Dinner|   4|        4.71|\n",
                        "+----------+----+------+------+---+------+----+------------+\n",
                        "only showing top 2 rows\n",
                        "\n",
                        "+----------+----+----+------+---+------+----+------------+\n",
                        "|total_bill|tips| sex|smoker|day|  time|size|tips_imputed|\n",
                        "+----------+----+----+------+---+------+----+------------+\n",
                        "|     10.34|1.66|Male|    No|Sun|Dinner|   3|        1.66|\n",
                        "|     21.01| 3.5|Male|    No|Sun|Dinner|   3|         3.5|\n",
                        "+----------+----+----+------+---+------+----+------------+\n",
                        "only showing top 2 rows\n",
                        "\n",
                        "+----------+----+----+------+---+------+----+------------+\n",
                        "|total_bill|tips| sex|smoker|day|  time|size|tips_imputed|\n",
                        "+----------+----+----+------+---+------+----+------------+\n",
                        "|     10.34|1.66|Male|    No|Sun|Dinner|   3|        1.66|\n",
                        "|     21.01| 3.5|Male|    No|Sun|Dinner|   3|         3.5|\n",
                        "+----------+----+----+------+---+------+----+------------+\n",
                        "only showing top 2 rows\n",
                        "\n"
                    ]
                }
            ],
            "metadata": {}
        },
        {
            "cell_type": "markdown",
            "source": [
                "10. Aggregate\r\n",
                "- GroupBy: sum(), avg(), mean(), count()\r\n",
                "- agg"
            ],
            "metadata": {}
        },
        {
            "cell_type": "code",
            "execution_count": 154,
            "source": [
                "df_pyspark.select(['smoker','tips_imputed']).groupBy('smoker').sum().show()\r\n",
                "df_pyspark.select(['smoker','tips_imputed']).groupBy('smoker').avg().show()\r\n",
                "df_pyspark.groupBy(['smoker']).count().show()"
            ],
            "outputs": [
                {
                    "output_type": "stream",
                    "name": "stdout",
                    "text": [
                        "+------+------------------+\n",
                        "|smoker| sum(tips_imputed)|\n",
                        "+------+------------------+\n",
                        "|    No|458.74000000000007|\n",
                        "|   Yes|            279.81|\n",
                        "+------+------------------+\n",
                        "\n",
                        "+------+-----------------+\n",
                        "|smoker|avg(tips_imputed)|\n",
                        "+------+-----------------+\n",
                        "|    No|2.959612903225807|\n",
                        "|   Yes|3.008709677419355|\n",
                        "+------+-----------------+\n",
                        "\n",
                        "+------+-----+\n",
                        "|smoker|count|\n",
                        "+------+-----+\n",
                        "|    No|  155|\n",
                        "|   Yes|   93|\n",
                        "+------+-----+\n",
                        "\n"
                    ]
                }
            ],
            "metadata": {}
        },
        {
            "cell_type": "code",
            "execution_count": 156,
            "source": [
                "df_pyspark.agg({'tips_imputed':'avg'}).show()"
            ],
            "outputs": [
                {
                    "output_type": "stream",
                    "name": "stdout",
                    "text": [
                        "+------------------+\n",
                        "| avg(tips_imputed)|\n",
                        "+------------------+\n",
                        "|2.9780241935483867|\n",
                        "+------------------+\n",
                        "\n"
                    ]
                }
            ],
            "metadata": {}
        },
        {
            "cell_type": "code",
            "execution_count": null,
            "source": [
                "session.stop()"
            ],
            "outputs": [],
            "metadata": {}
        }
    ],
    "metadata": {
        "orig_nbformat": 4,
        "language_info": {
            "name": "python",
            "version": "3.7.2",
            "mimetype": "text/x-python",
            "codemirror_mode": {
                "name": "ipython",
                "version": 3
            },
            "pygments_lexer": "ipython3",
            "nbconvert_exporter": "python",
            "file_extension": ".py"
        },
        "kernelspec": {
            "name": "python3",
            "display_name": "Python 3.7.2 64-bit"
        },
        "interpreter": {
            "hash": "ddb07a66770a889a96350d281e3afc596a5d223630c08df24c64c72c698d6da3"
        }
    },
    "nbformat": 4,
    "nbformat_minor": 2
}